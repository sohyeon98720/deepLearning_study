{
  "nbformat": 4,
  "nbformat_minor": 0,
  "metadata": {
    "colab": {
      "name": "mnist.ipynb",
      "provenance": [],
      "collapsed_sections": [],
      "authorship_tag": "ABX9TyPuENwHr04pCSS1l9NAaAfP",
      "include_colab_link": true
    },
    "kernelspec": {
      "name": "python3",
      "display_name": "Python 3"
    }
  },
  "cells": [
    {
      "cell_type": "markdown",
      "metadata": {
        "id": "view-in-github",
        "colab_type": "text"
      },
      "source": [
        "<a href=\"https://colab.research.google.com/github/sohyeon98720/deepLearning_study/blob/master/study_1/mnist.ipynb\" target=\"_parent\"><img src=\"https://colab.research.google.com/assets/colab-badge.svg\" alt=\"Open In Colab\"/></a>"
      ]
    },
    {
      "cell_type": "code",
      "metadata": {
        "id": "3SKLGxYfHzYY",
        "colab_type": "code",
        "colab": {}
      },
      "source": [
        "# 버전 설치\n",
        "!pip install -q tensorflow-gpu==2.0.0-rc1"
      ],
      "execution_count": 0,
      "outputs": []
    },
    {
      "cell_type": "code",
      "metadata": {
        "id": "JGvL3GSII-NU",
        "colab_type": "code",
        "outputId": "84e0745d-99d4-44e2-f230-052ea05d47b6",
        "colab": {
          "base_uri": "https://localhost:8080/",
          "height": 35
        }
      },
      "source": [
        "# 필요한 모델 임포트\n",
        "from keras import datasets\n",
        "import numpy as np\n",
        "import matplotlib.pyplot as plt\n",
        "import keras\n",
        "%matplotlib inline"
      ],
      "execution_count": 0,
      "outputs": [
        {
          "output_type": "stream",
          "text": [
            "Using TensorFlow backend.\n"
          ],
          "name": "stderr"
        }
      ]
    },
    {
      "cell_type": "code",
      "metadata": {
        "id": "nn95DyxQHvHC",
        "colab_type": "code",
        "colab": {}
      },
      "source": [
        "# 데이터 로드\n",
        "(x_train, y_train), (x_test, y_test) = datasets.mnist.load_data()"
      ],
      "execution_count": 0,
      "outputs": []
    },
    {
      "cell_type": "code",
      "metadata": {
        "id": "u0ngBp5WHwtj",
        "colab_type": "code",
        "outputId": "54c8fef5-bc79-4ebe-dec6-ed3e96630c2d",
        "colab": {
          "base_uri": "https://localhost:8080/",
          "height": 283
        }
      },
      "source": [
        "# 데이터 확인\n",
        "plt.imshow(x_train[0], cmap='gray')\n",
        "print(y_train[0])"
      ],
      "execution_count": 0,
      "outputs": [
        {
          "output_type": "stream",
          "text": [
            "5\n"
          ],
          "name": "stdout"
        },
        {
          "output_type": "display_data",
          "data": {
            "image/png": "[encoded data removed]",
            "text/plain": [
              "<Figure size 432x288 with 1 Axes>"
            ]
          },
          "metadata": {
            "tags": []
          }
        }
      ]
    },
    {
      "cell_type": "code",
      "metadata": {
        "id": "2HINoT8hIXdU",
        "colab_type": "code",
        "outputId": "34c78cae-57aa-4f7d-8472-f19d7c4e4672",
        "colab": {
          "base_uri": "https://localhost:8080/",
          "height": 35
        }
      },
      "source": [
        "# 데이터 확인 2\n",
        "print(x_train.shape, x_test.shape)"
      ],
      "execution_count": 0,
      "outputs": [
        {
          "output_type": "stream",
          "text": [
            "(60000, 28, 28) (10000, 28, 28)\n"
          ],
          "name": "stdout"
        }
      ]
    },
    {
      "cell_type": "code",
      "metadata": {
        "id": "XNoWsVVGIo6Q",
        "colab_type": "code",
        "colab": {}
      },
      "source": [
        "# 픽셀의 범위가 0~255까지 이므로 이미지처리를 쉽게 하기위해 255로 나눔 = 데이터 표준화\n",
        "# + 255가 아닌 255.0으로 하여 강제형변환을 수행.\n",
        "x_train, x_test = x_train / 255.0, x_test / 255.0"
      ],
      "execution_count": 0,
      "outputs": []
    },
    {
      "cell_type": "code",
      "metadata": {
        "id": "kzW1HTM-I2__",
        "colab_type": "code",
        "outputId": "dce09650-cff5-4224-cb01-82a60eed1381",
        "colab": {
          "base_uri": "https://localhost:8080/",
          "height": 1000
        }
      },
      "source": [
        "# 데이터 전처리가 잘 됐는지 확인\n",
        "x_train[0,0:10]"
      ],
      "execution_count": 0,
      "outputs": [
        {
          "output_type": "execute_result",
          "data": {
            "text/plain": [
              "array([[0.        , 0.        , 0.        , 0.        , 0.        ,\n",
              "        0.        , 0.        , 0.        , 0.        , 0.        ,\n",
              "        0.        , 0.        , 0.        , 0.        , 0.        ,\n",
              "        0.        , 0.        , 0.        , 0.        , 0.        ,\n",
              "        0.        , 0.        , 0.        , 0.        , 0.        ,\n",
              "        0.        , 0.        , 0.        ],\n",
              "       [0.        , 0.        , 0.        , 0.        , 0.        ,\n",
              "        0.        , 0.        , 0.        , 0.        , 0.        ,\n",
              "        0.        , 0.        , 0.        , 0.        , 0.        ,\n",
              "        0.        , 0.        , 0.        , 0.        , 0.        ,\n",
              "        0.        , 0.        , 0.        , 0.        , 0.        ,\n",
              "        0.        , 0.        , 0.        ],\n",
              "       [0.        , 0.        , 0.        , 0.        , 0.        ,\n",
              "        0.        , 0.        , 0.        , 0.        , 0.        ,\n",
              "        0.        , 0.        , 0.        , 0.        , 0.        ,\n",
              "        0.        , 0.        , 0.        , 0.        , 0.        ,\n",
              "        0.        , 0.        , 0.        , 0.        , 0.        ,\n",
              "        0.        , 0.        , 0.        ],\n",
              "       [0.        , 0.        , 0.        , 0.        , 0.        ,\n",
              "        0.        , 0.        , 0.        , 0.        , 0.        ,\n",
              "        0.        , 0.        , 0.        , 0.        , 0.        ,\n",
              "        0.        , 0.        , 0.        , 0.        , 0.        ,\n",
              "        0.        , 0.        , 0.        , 0.        , 0.        ,\n",
              "        0.        , 0.        , 0.        ],\n",
              "       [0.        , 0.        , 0.        , 0.        , 0.        ,\n",
              "        0.        , 0.        , 0.        , 0.        , 0.        ,\n",
              "        0.        , 0.        , 0.        , 0.        , 0.        ,\n",
              "        0.        , 0.        , 0.        , 0.        , 0.        ,\n",
              "        0.        , 0.        , 0.        , 0.        , 0.        ,\n",
              "        0.        , 0.        , 0.        ],\n",
              "       [0.        , 0.        , 0.        , 0.        , 0.        ,\n",
              "        0.        , 0.        , 0.        , 0.        , 0.        ,\n",
              "        0.        , 0.        , 0.01176471, 0.07058824, 0.07058824,\n",
              "        0.07058824, 0.49411765, 0.53333333, 0.68627451, 0.10196078,\n",
              "        0.65098039, 1.        , 0.96862745, 0.49803922, 0.        ,\n",
              "        0.        , 0.        , 0.        ],\n",
              "       [0.        , 0.        , 0.        , 0.        , 0.        ,\n",
              "        0.        , 0.        , 0.        , 0.11764706, 0.14117647,\n",
              "        0.36862745, 0.60392157, 0.66666667, 0.99215686, 0.99215686,\n",
              "        0.99215686, 0.99215686, 0.99215686, 0.88235294, 0.6745098 ,\n",
              "        0.99215686, 0.94901961, 0.76470588, 0.25098039, 0.        ,\n",
              "        0.        , 0.        , 0.        ],\n",
              "       [0.        , 0.        , 0.        , 0.        , 0.        ,\n",
              "        0.        , 0.        , 0.19215686, 0.93333333, 0.99215686,\n",
              "        0.99215686, 0.99215686, 0.99215686, 0.99215686, 0.99215686,\n",
              "        0.99215686, 0.99215686, 0.98431373, 0.36470588, 0.32156863,\n",
              "        0.32156863, 0.21960784, 0.15294118, 0.        , 0.        ,\n",
              "        0.        , 0.        , 0.        ],\n",
              "       [0.        , 0.        , 0.        , 0.        , 0.        ,\n",
              "        0.        , 0.        , 0.07058824, 0.85882353, 0.99215686,\n",
              "        0.99215686, 0.99215686, 0.99215686, 0.99215686, 0.77647059,\n",
              "        0.71372549, 0.96862745, 0.94509804, 0.        , 0.        ,\n",
              "        0.        , 0.        , 0.        , 0.        , 0.        ,\n",
              "        0.        , 0.        , 0.        ],\n",
              "       [0.        , 0.        , 0.        , 0.        , 0.        ,\n",
              "        0.        , 0.        , 0.        , 0.31372549, 0.61176471,\n",
              "        0.41960784, 0.99215686, 0.99215686, 0.80392157, 0.04313725,\n",
              "        0.        , 0.16862745, 0.60392157, 0.        , 0.        ,\n",
              "        0.        , 0.        , 0.        , 0.        , 0.        ,\n",
              "        0.        , 0.        , 0.        ]])"
            ]
          },
          "metadata": {
            "tags": []
          },
          "execution_count": 7
        }
      ]
    },
    {
      "cell_type": "code",
      "metadata": {
        "id": "p7hAA8gIKeDR",
        "colab_type": "code",
        "outputId": "139ae005-c4f8-4d83-e500-4e8b649a46f5",
        "colab": {
          "base_uri": "https://localhost:8080/",
          "height": 35
        }
      },
      "source": [
        "y_train[0:10]"
      ],
      "execution_count": 0,
      "outputs": [
        {
          "output_type": "execute_result",
          "data": {
            "text/plain": [
              "array([5, 0, 4, 1, 9, 2, 1, 3, 1, 4], dtype=uint8)"
            ]
          },
          "metadata": {
            "tags": []
          },
          "execution_count": 8
        }
      ]
    },
    {
      "cell_type": "code",
      "metadata": {
        "id": "3gabeCfYMHyK",
        "colab_type": "code",
        "outputId": "3d7bcd7e-5d7a-42bd-8028-599e3cc9dacc",
        "colab": {
          "base_uri": "https://localhost:8080/",
          "height": 35
        }
      },
      "source": [
        "# 정수의 분포 형태 보기\n",
        "np.bincount(y_train)"
      ],
      "execution_count": 0,
      "outputs": [
        {
          "output_type": "execute_result",
          "data": {
            "text/plain": [
              "array([5923, 6742, 5958, 6131, 5842, 5421, 5918, 6265, 5851, 5949])"
            ]
          },
          "metadata": {
            "tags": []
          },
          "execution_count": 9
        }
      ]
    },
    {
      "cell_type": "code",
      "metadata": {
        "id": "n88zNm5kLWHj",
        "colab_type": "code",
        "colab": {}
      },
      "source": [
        "# 정답배열이 일반 정수형태이면 안되므로\n",
        "# 원 핫 인코딩 수행\n",
        "y_train_encoded=keras.utils.to_categorical(y_train)\n",
        "y_test_encoded=keras.utils.to_categorical(y_test)"
      ],
      "execution_count": 0,
      "outputs": []
    },
    {
      "cell_type": "code",
      "metadata": {
        "id": "6CE6WCo8M1S9",
        "colab_type": "code",
        "outputId": "e1796254-538d-443c-9823-e1394466b028",
        "colab": {
          "base_uri": "https://localhost:8080/",
          "height": 35
        }
      },
      "source": [
        "# 원 핫 인코딩이 잘 되었는지 확인\n",
        "print(y_train[0],y_train_encoded[0])"
      ],
      "execution_count": 0,
      "outputs": [
        {
          "output_type": "stream",
          "text": [
            "5 [0. 0. 0. 0. 0. 1. 0. 0. 0. 0.]\n"
          ],
          "name": "stdout"
        }
      ]
    },
    {
      "cell_type": "code",
      "metadata": {
        "id": "KmqVTJBbM5fR",
        "colab_type": "code",
        "colab": {}
      },
      "source": [
        "# 데이터의 차원변경(28*28을 1차원으로)\n",
        "x_train=x_train.reshape(-1,784)"
      ],
      "execution_count": 0,
      "outputs": []
    },
    {
      "cell_type": "code",
      "metadata": {
        "id": "VSten542OfcY",
        "colab_type": "code",
        "outputId": "88be879f-09fc-48ad-b800-f84ef79f9ca9",
        "colab": {
          "base_uri": "https://localhost:8080/",
          "height": 35
        }
      },
      "source": [
        "# 데이터의 차원 확인하기\n",
        "print(x_train.shape)"
      ],
      "execution_count": 0,
      "outputs": [
        {
          "output_type": "stream",
          "text": [
            "(60000, 784)\n"
          ],
          "name": "stdout"
        }
      ]
    },
    {
      "cell_type": "code",
      "metadata": {
        "id": "AySFWhE9OjCJ",
        "colab_type": "code",
        "colab": {}
      },
      "source": [
        "# 다중분류 모델 생성\n",
        "from tensorflow.python.keras.layers import Dense\n",
        "from tensorflow.python.keras import Sequential"
      ],
      "execution_count": 0,
      "outputs": []
    },
    {
      "cell_type": "code",
      "metadata": {
        "id": "1MfGmBeyPK2f",
        "colab_type": "code",
        "colab": {}
      },
      "source": [
        "model=Sequential()\n",
        "model.add(Dense(100,activation='sigmoid',input_shape=(784,)))\n",
        "model.add(Dense(10,activation='softmax'))"
      ],
      "execution_count": 0,
      "outputs": []
    },
    {
      "cell_type": "code",
      "metadata": {
        "id": "VY8O1OSfQZat",
        "colab_type": "code",
        "colab": {}
      },
      "source": [
        "model.compile(optimizer='sgd',loss='categorical_crossentropy',metrics=['accuracy'])"
      ],
      "execution_count": 0,
      "outputs": []
    },
    {
      "cell_type": "code",
      "metadata": {
        "id": "iUt90PdORd8L",
        "colab_type": "code",
        "outputId": "b463d2d3-875f-473e-e9f4-28bcd304f527",
        "colab": {
          "base_uri": "https://localhost:8080/",
          "height": 1000
        }
      },
      "source": [
        "# 반환값을 history라는 변수에 저장\n",
        "history=model.fit(x_train,y_train_encoded,epochs=40)"
      ],
      "execution_count": 0,
      "outputs": [
        {
          "output_type": "stream",
          "text": [
            "Train on 60000 samples\n",
            "Epoch 1/40\n",
            "60000/60000 [==============================] - 5s 86us/sample - loss: 1.4554 - accuracy: 0.7062\n",
            "Epoch 2/40\n",
            "60000/60000 [==============================] - 5s 80us/sample - loss: 0.7180 - accuracy: 0.8482\n",
            "Epoch 3/40\n",
            "60000/60000 [==============================] - 4s 74us/sample - loss: 0.5322 - accuracy: 0.8724\n",
            "Epoch 4/40\n",
            "60000/60000 [==============================] - 4s 71us/sample - loss: 0.4537 - accuracy: 0.8839\n",
            "Epoch 5/40\n",
            "60000/60000 [==============================] - 4s 71us/sample - loss: 0.4102 - accuracy: 0.8906\n",
            "Epoch 6/40\n",
            "60000/60000 [==============================] - 4s 70us/sample - loss: 0.3821 - accuracy: 0.8952\n",
            "Epoch 7/40\n",
            "60000/60000 [==============================] - 4s 71us/sample - loss: 0.3621 - accuracy: 0.8992\n",
            "Epoch 8/40\n",
            "60000/60000 [==============================] - 4s 71us/sample - loss: 0.3469 - accuracy: 0.9028\n",
            "Epoch 9/40\n",
            "60000/60000 [==============================] - 4s 72us/sample - loss: 0.3347 - accuracy: 0.9060\n",
            "Epoch 10/40\n",
            "60000/60000 [==============================] - 5s 76us/sample - loss: 0.3247 - accuracy: 0.9083\n",
            "Epoch 11/40\n",
            "60000/60000 [==============================] - 4s 71us/sample - loss: 0.3161 - accuracy: 0.9108\n",
            "Epoch 12/40\n",
            "60000/60000 [==============================] - 4s 71us/sample - loss: 0.3087 - accuracy: 0.9122\n",
            "Epoch 13/40\n",
            "60000/60000 [==============================] - 4s 70us/sample - loss: 0.3019 - accuracy: 0.9140\n",
            "Epoch 14/40\n",
            "60000/60000 [==============================] - 4s 71us/sample - loss: 0.2960 - accuracy: 0.9154\n",
            "Epoch 15/40\n",
            "60000/60000 [==============================] - 4s 73us/sample - loss: 0.2904 - accuracy: 0.9170\n",
            "Epoch 16/40\n",
            "60000/60000 [==============================] - 4s 73us/sample - loss: 0.2852 - accuracy: 0.9187\n",
            "Epoch 17/40\n",
            "60000/60000 [==============================] - 4s 72us/sample - loss: 0.2804 - accuracy: 0.9202\n",
            "Epoch 18/40\n",
            "60000/60000 [==============================] - 4s 72us/sample - loss: 0.2758 - accuracy: 0.9210\n",
            "Epoch 19/40\n",
            "60000/60000 [==============================] - 4s 72us/sample - loss: 0.2715 - accuracy: 0.9228\n",
            "Epoch 20/40\n",
            "60000/60000 [==============================] - 4s 71us/sample - loss: 0.2674 - accuracy: 0.9240\n",
            "Epoch 21/40\n",
            "60000/60000 [==============================] - 4s 71us/sample - loss: 0.2633 - accuracy: 0.9246\n",
            "Epoch 22/40\n",
            "60000/60000 [==============================] - 4s 71us/sample - loss: 0.2595 - accuracy: 0.9257\n",
            "Epoch 23/40\n",
            "60000/60000 [==============================] - 4s 70us/sample - loss: 0.2557 - accuracy: 0.9271\n",
            "Epoch 24/40\n",
            "60000/60000 [==============================] - 4s 72us/sample - loss: 0.2522 - accuracy: 0.9277\n",
            "Epoch 25/40\n",
            "60000/60000 [==============================] - 4s 69us/sample - loss: 0.2487 - accuracy: 0.9294\n",
            "Epoch 26/40\n",
            "60000/60000 [==============================] - 4s 75us/sample - loss: 0.2452 - accuracy: 0.9306\n",
            "Epoch 27/40\n",
            "60000/60000 [==============================] - 5s 76us/sample - loss: 0.2419 - accuracy: 0.9311\n",
            "Epoch 28/40\n",
            "60000/60000 [==============================] - 4s 72us/sample - loss: 0.2386 - accuracy: 0.9321\n",
            "Epoch 29/40\n",
            "60000/60000 [==============================] - 4s 71us/sample - loss: 0.2356 - accuracy: 0.9327\n",
            "Epoch 30/40\n",
            "60000/60000 [==============================] - 4s 69us/sample - loss: 0.2325 - accuracy: 0.9335\n",
            "Epoch 31/40\n",
            "60000/60000 [==============================] - 4s 69us/sample - loss: 0.2296 - accuracy: 0.9344\n",
            "Epoch 32/40\n",
            "60000/60000 [==============================] - 4s 71us/sample - loss: 0.2267 - accuracy: 0.9355\n",
            "Epoch 33/40\n",
            "60000/60000 [==============================] - 4s 71us/sample - loss: 0.2239 - accuracy: 0.9360\n",
            "Epoch 34/40\n",
            "60000/60000 [==============================] - 4s 71us/sample - loss: 0.2211 - accuracy: 0.9371\n",
            "Epoch 35/40\n",
            "60000/60000 [==============================] - 4s 72us/sample - loss: 0.2185 - accuracy: 0.9379\n",
            "Epoch 36/40\n",
            "60000/60000 [==============================] - 4s 72us/sample - loss: 0.2158 - accuracy: 0.9384\n",
            "Epoch 37/40\n",
            "60000/60000 [==============================] - 4s 71us/sample - loss: 0.2132 - accuracy: 0.9395\n",
            "Epoch 38/40\n",
            "60000/60000 [==============================] - 4s 71us/sample - loss: 0.2107 - accuracy: 0.9397\n",
            "Epoch 39/40\n",
            "60000/60000 [==============================] - 4s 71us/sample - loss: 0.2083 - accuracy: 0.9409\n",
            "Epoch 40/40\n",
            "60000/60000 [==============================] - 4s 71us/sample - loss: 0.2059 - accuracy: 0.9414\n"
          ],
          "name": "stdout"
        }
      ]
    },
    {
      "cell_type": "code",
      "metadata": {
        "id": "qqQHGPduRoJO",
        "colab_type": "code",
        "outputId": "68b8f9ae-8dd4-410f-9592-b1250a5c4316",
        "colab": {
          "base_uri": "https://localhost:8080/",
          "height": 35
        }
      },
      "source": [
        "print(history.history.keys())"
      ],
      "execution_count": 0,
      "outputs": [
        {
          "output_type": "stream",
          "text": [
            "dict_keys(['loss', 'accuracy'])\n"
          ],
          "name": "stdout"
        }
      ]
    },
    {
      "cell_type": "code",
      "metadata": {
        "id": "lpIA_lH-TbRT",
        "colab_type": "code",
        "outputId": "7fcb7299-d0c1-4f1a-956e-48bcf54210c7",
        "colab": {
          "base_uri": "https://localhost:8080/",
          "height": 54
        }
      },
      "source": [
        "# train set의 최종 손실과 정확도\n",
        "print(history.history['loss'][-1])\n",
        "print(history.history['accuracy'][-1])"
      ],
      "execution_count": 0,
      "outputs": [
        {
          "output_type": "stream",
          "text": [
            "0.20586801352699596\n",
            "0.94138336\n"
          ],
          "name": "stdout"
        }
      ]
    },
    {
      "cell_type": "code",
      "metadata": {
        "id": "Ou3NSiobSasi",
        "colab_type": "code",
        "outputId": "a3417bf6-bd84-4bc1-d7c9-43ae633f3fdb",
        "colab": {
          "base_uri": "https://localhost:8080/",
          "height": 279
        }
      },
      "source": [
        "# 손실 그래프\n",
        "plt.plot(history.history['loss'])\n",
        "plt.ylabel('loss')\n",
        "plt.xlabel('epoch')\n",
        "plt.show()"
      ],
      "execution_count": 0,
      "outputs": [
        {
          "output_type": "display_data",
          "data": {
            "image/png": "[encoded data removed]",
            "text/plain": [
              "<Figure size 432x288 with 1 Axes>"
            ]
          },
          "metadata": {
            "tags": []
          }
        }
      ]
    },
    {
      "cell_type": "code",
      "metadata": {
        "id": "9owH06jGStH7",
        "colab_type": "code",
        "outputId": "d712d297-7305-4911-fccb-b28807142d44",
        "colab": {
          "base_uri": "https://localhost:8080/",
          "height": 281
        }
      },
      "source": [
        "# 정확도 그래프\n",
        "plt.plot(history.history['accuracy'])\n",
        "plt.ylabel('accuracy')\n",
        "plt.xlabel('epoch')\n",
        "plt.show()"
      ],
      "execution_count": 0,
      "outputs": [
        {
          "output_type": "display_data",
          "data": {
            "image/png": "[encoded data removed]",
            "text/plain": [
              "<Figure size 432x288 with 1 Axes>"
            ]
          },
          "metadata": {
            "tags": []
          }
        }
      ]
    },
    {
      "cell_type": "code",
      "metadata": {
        "id": "lNFOyAp4SyOE",
        "colab_type": "code",
        "outputId": "8d3ce36a-78a5-4df5-be6c-ae433f9ccee8",
        "colab": {
          "base_uri": "https://localhost:8080/",
          "height": 35
        }
      },
      "source": [
        "x_test=x_test.reshape(-1,784)\n",
        "\n",
        "loss,accuracy=model.evaluate(x_test,y_test_encoded,verbose=0)\n",
        "print(accuracy)"
      ],
      "execution_count": 0,
      "outputs": [
        {
          "output_type": "stream",
          "text": [
            "0.9421\n"
          ],
          "name": "stdout"
        }
      ]
    },
    {
      "cell_type": "code",
      "metadata": {
        "id": "UM1nOcMFTAfu",
        "colab_type": "code",
        "colab": {}
      },
      "source": [
        ""
      ],
      "execution_count": 0,
      "outputs": []
    }
  ]
}